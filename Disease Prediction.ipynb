{
 "cells": [
  {
   "cell_type": "code",
   "execution_count": 1,
   "id": "21e88351-cb26-462c-b149-39b21e641e8b",
   "metadata": {},
   "outputs": [],
   "source": [
    "#importing the dependencies\n",
    "import numpy as np\n",
    "import pandas as pd\n",
    "from sklearn.model_selection import train_test_split\n",
    "from sklearn.metrics import accuracy_score\n",
    "import matplotlib.pyplot as plt\n",
    "import seaborn as sns\n",
    "import warnings\n",
    "warnings.filterwarnings('ignore')"
   ]
  },
  {
   "cell_type": "code",
   "execution_count": 2,
   "id": "43da9568-9375-4d3b-bad9-4c0a128ae758",
   "metadata": {},
   "outputs": [],
   "source": [
    "train_data=pd.read_csv(r\"C:\\Users\\FAITH\\Documents\\work\\AI\\Train_data.csv\")"
   ]
  },
  {
   "cell_type": "code",
   "execution_count": 3,
   "id": "8c213430-0d44-43d1-bb25-bdb7dddd5052",
   "metadata": {},
   "outputs": [],
   "source": [
    "test_data=pd.read_csv(r\"C:\\Users\\FAITH\\Documents\\work\\AI\\test_data.csv\")"
   ]
  },
  {
   "cell_type": "code",
   "execution_count": 4,
   "id": "d148044b-1d11-4a25-a112-935ed43347f9",
   "metadata": {},
   "outputs": [
    {
     "data": {
      "text/html": [
       "<div>\n",
       "<style scoped>\n",
       "    .dataframe tbody tr th:only-of-type {\n",
       "        vertical-align: middle;\n",
       "    }\n",
       "\n",
       "    .dataframe tbody tr th {\n",
       "        vertical-align: top;\n",
       "    }\n",
       "\n",
       "    .dataframe thead th {\n",
       "        text-align: right;\n",
       "    }\n",
       "</style>\n",
       "<table border=\"1\" class=\"dataframe\">\n",
       "  <thead>\n",
       "    <tr style=\"text-align: right;\">\n",
       "      <th></th>\n",
       "      <th>Glucose</th>\n",
       "      <th>Cholesterol</th>\n",
       "      <th>Hemoglobin</th>\n",
       "      <th>Platelets</th>\n",
       "      <th>White Blood Cells</th>\n",
       "      <th>Red Blood Cells</th>\n",
       "      <th>Hematocrit</th>\n",
       "      <th>Mean Corpuscular Volume</th>\n",
       "      <th>Mean Corpuscular Hemoglobin</th>\n",
       "      <th>Mean Corpuscular Hemoglobin Concentration</th>\n",
       "      <th>...</th>\n",
       "      <th>HbA1c</th>\n",
       "      <th>LDL Cholesterol</th>\n",
       "      <th>HDL Cholesterol</th>\n",
       "      <th>ALT</th>\n",
       "      <th>AST</th>\n",
       "      <th>Heart Rate</th>\n",
       "      <th>Creatinine</th>\n",
       "      <th>Troponin</th>\n",
       "      <th>C-reactive Protein</th>\n",
       "      <th>Disease</th>\n",
       "    </tr>\n",
       "  </thead>\n",
       "  <tbody>\n",
       "    <tr>\n",
       "      <th>0</th>\n",
       "      <td>0.739597</td>\n",
       "      <td>0.650198</td>\n",
       "      <td>0.713631</td>\n",
       "      <td>0.868491</td>\n",
       "      <td>0.687433</td>\n",
       "      <td>0.529895</td>\n",
       "      <td>0.290006</td>\n",
       "      <td>0.631045</td>\n",
       "      <td>0.001328</td>\n",
       "      <td>0.795829</td>\n",
       "      <td>...</td>\n",
       "      <td>0.502665</td>\n",
       "      <td>0.215560</td>\n",
       "      <td>0.512941</td>\n",
       "      <td>0.064187</td>\n",
       "      <td>0.610827</td>\n",
       "      <td>0.939485</td>\n",
       "      <td>0.095512</td>\n",
       "      <td>0.465957</td>\n",
       "      <td>0.769230</td>\n",
       "      <td>Non-diseased</td>\n",
       "    </tr>\n",
       "    <tr>\n",
       "      <th>1</th>\n",
       "      <td>0.121786</td>\n",
       "      <td>0.023058</td>\n",
       "      <td>0.944893</td>\n",
       "      <td>0.905372</td>\n",
       "      <td>0.507711</td>\n",
       "      <td>0.403033</td>\n",
       "      <td>0.164216</td>\n",
       "      <td>0.307553</td>\n",
       "      <td>0.207938</td>\n",
       "      <td>0.505562</td>\n",
       "      <td>...</td>\n",
       "      <td>0.856810</td>\n",
       "      <td>0.652465</td>\n",
       "      <td>0.106961</td>\n",
       "      <td>0.942549</td>\n",
       "      <td>0.344261</td>\n",
       "      <td>0.666368</td>\n",
       "      <td>0.659060</td>\n",
       "      <td>0.816982</td>\n",
       "      <td>0.401166</td>\n",
       "      <td>Diseased</td>\n",
       "    </tr>\n",
       "    <tr>\n",
       "      <th>2</th>\n",
       "      <td>0.452539</td>\n",
       "      <td>0.116135</td>\n",
       "      <td>0.544560</td>\n",
       "      <td>0.400640</td>\n",
       "      <td>0.294538</td>\n",
       "      <td>0.382021</td>\n",
       "      <td>0.625267</td>\n",
       "      <td>0.295122</td>\n",
       "      <td>0.868369</td>\n",
       "      <td>0.026808</td>\n",
       "      <td>...</td>\n",
       "      <td>0.466795</td>\n",
       "      <td>0.387332</td>\n",
       "      <td>0.421763</td>\n",
       "      <td>0.007186</td>\n",
       "      <td>0.506918</td>\n",
       "      <td>0.431704</td>\n",
       "      <td>0.417295</td>\n",
       "      <td>0.799074</td>\n",
       "      <td>0.779208</td>\n",
       "      <td>Diseased</td>\n",
       "    </tr>\n",
       "    <tr>\n",
       "      <th>3</th>\n",
       "      <td>0.136609</td>\n",
       "      <td>0.015605</td>\n",
       "      <td>0.419957</td>\n",
       "      <td>0.191487</td>\n",
       "      <td>0.081168</td>\n",
       "      <td>0.166214</td>\n",
       "      <td>0.073293</td>\n",
       "      <td>0.668719</td>\n",
       "      <td>0.125447</td>\n",
       "      <td>0.501051</td>\n",
       "      <td>...</td>\n",
       "      <td>0.016256</td>\n",
       "      <td>0.040137</td>\n",
       "      <td>0.826721</td>\n",
       "      <td>0.265415</td>\n",
       "      <td>0.594148</td>\n",
       "      <td>0.225756</td>\n",
       "      <td>0.490349</td>\n",
       "      <td>0.637061</td>\n",
       "      <td>0.354094</td>\n",
       "      <td>Diseased</td>\n",
       "    </tr>\n",
       "    <tr>\n",
       "      <th>4</th>\n",
       "      <td>0.176737</td>\n",
       "      <td>0.752220</td>\n",
       "      <td>0.971779</td>\n",
       "      <td>0.785286</td>\n",
       "      <td>0.443880</td>\n",
       "      <td>0.439851</td>\n",
       "      <td>0.894991</td>\n",
       "      <td>0.442159</td>\n",
       "      <td>0.257288</td>\n",
       "      <td>0.805987</td>\n",
       "      <td>...</td>\n",
       "      <td>0.429431</td>\n",
       "      <td>0.146294</td>\n",
       "      <td>0.221574</td>\n",
       "      <td>0.015280</td>\n",
       "      <td>0.567115</td>\n",
       "      <td>0.841412</td>\n",
       "      <td>0.153350</td>\n",
       "      <td>0.794008</td>\n",
       "      <td>0.094970</td>\n",
       "      <td>Diseased</td>\n",
       "    </tr>\n",
       "  </tbody>\n",
       "</table>\n",
       "<p>5 rows × 25 columns</p>\n",
       "</div>"
      ],
      "text/plain": [
       "    Glucose  Cholesterol  Hemoglobin  Platelets  White Blood Cells  \\\n",
       "0  0.739597     0.650198    0.713631   0.868491           0.687433   \n",
       "1  0.121786     0.023058    0.944893   0.905372           0.507711   \n",
       "2  0.452539     0.116135    0.544560   0.400640           0.294538   \n",
       "3  0.136609     0.015605    0.419957   0.191487           0.081168   \n",
       "4  0.176737     0.752220    0.971779   0.785286           0.443880   \n",
       "\n",
       "   Red Blood Cells  Hematocrit  Mean Corpuscular Volume  \\\n",
       "0         0.529895    0.290006                 0.631045   \n",
       "1         0.403033    0.164216                 0.307553   \n",
       "2         0.382021    0.625267                 0.295122   \n",
       "3         0.166214    0.073293                 0.668719   \n",
       "4         0.439851    0.894991                 0.442159   \n",
       "\n",
       "   Mean Corpuscular Hemoglobin  Mean Corpuscular Hemoglobin Concentration  \\\n",
       "0                     0.001328                                   0.795829   \n",
       "1                     0.207938                                   0.505562   \n",
       "2                     0.868369                                   0.026808   \n",
       "3                     0.125447                                   0.501051   \n",
       "4                     0.257288                                   0.805987   \n",
       "\n",
       "   ...     HbA1c  LDL Cholesterol  HDL Cholesterol       ALT       AST  \\\n",
       "0  ...  0.502665         0.215560         0.512941  0.064187  0.610827   \n",
       "1  ...  0.856810         0.652465         0.106961  0.942549  0.344261   \n",
       "2  ...  0.466795         0.387332         0.421763  0.007186  0.506918   \n",
       "3  ...  0.016256         0.040137         0.826721  0.265415  0.594148   \n",
       "4  ...  0.429431         0.146294         0.221574  0.015280  0.567115   \n",
       "\n",
       "   Heart Rate  Creatinine  Troponin  C-reactive Protein       Disease  \n",
       "0    0.939485    0.095512  0.465957            0.769230  Non-diseased  \n",
       "1    0.666368    0.659060  0.816982            0.401166      Diseased  \n",
       "2    0.431704    0.417295  0.799074            0.779208      Diseased  \n",
       "3    0.225756    0.490349  0.637061            0.354094      Diseased  \n",
       "4    0.841412    0.153350  0.794008            0.094970      Diseased  \n",
       "\n",
       "[5 rows x 25 columns]"
      ]
     },
     "execution_count": 4,
     "metadata": {},
     "output_type": "execute_result"
    }
   ],
   "source": [
    "train_data.head()"
   ]
  },
  {
   "cell_type": "code",
   "execution_count": 5,
   "id": "e16baa5e-354a-4cc1-8b14-81d8341dbdc1",
   "metadata": {},
   "outputs": [
    {
     "data": {
      "text/html": [
       "<div>\n",
       "<style scoped>\n",
       "    .dataframe tbody tr th:only-of-type {\n",
       "        vertical-align: middle;\n",
       "    }\n",
       "\n",
       "    .dataframe tbody tr th {\n",
       "        vertical-align: top;\n",
       "    }\n",
       "\n",
       "    .dataframe thead th {\n",
       "        text-align: right;\n",
       "    }\n",
       "</style>\n",
       "<table border=\"1\" class=\"dataframe\">\n",
       "  <thead>\n",
       "    <tr style=\"text-align: right;\">\n",
       "      <th></th>\n",
       "      <th>Glucose</th>\n",
       "      <th>Cholesterol</th>\n",
       "      <th>Hemoglobin</th>\n",
       "      <th>Platelets</th>\n",
       "      <th>White Blood Cells</th>\n",
       "      <th>Red Blood Cells</th>\n",
       "      <th>Hematocrit</th>\n",
       "      <th>Mean Corpuscular Volume</th>\n",
       "      <th>Mean Corpuscular Hemoglobin</th>\n",
       "      <th>Mean Corpuscular Hemoglobin Concentration</th>\n",
       "      <th>...</th>\n",
       "      <th>HbA1c</th>\n",
       "      <th>LDL Cholesterol</th>\n",
       "      <th>HDL Cholesterol</th>\n",
       "      <th>ALT</th>\n",
       "      <th>AST</th>\n",
       "      <th>Heart Rate</th>\n",
       "      <th>Creatinine</th>\n",
       "      <th>Troponin</th>\n",
       "      <th>C-reactive Protein</th>\n",
       "      <th>Disease</th>\n",
       "    </tr>\n",
       "  </thead>\n",
       "  <tbody>\n",
       "    <tr>\n",
       "      <th>0</th>\n",
       "      <td>0.001827</td>\n",
       "      <td>0.033693</td>\n",
       "      <td>0.114755</td>\n",
       "      <td>0.997927</td>\n",
       "      <td>0.562604</td>\n",
       "      <td>0.866499</td>\n",
       "      <td>0.578042</td>\n",
       "      <td>0.914615</td>\n",
       "      <td>0.026864</td>\n",
       "      <td>0.038641</td>\n",
       "      <td>...</td>\n",
       "      <td>0.653230</td>\n",
       "      <td>0.186104</td>\n",
       "      <td>0.430398</td>\n",
       "      <td>0.016678</td>\n",
       "      <td>0.885352</td>\n",
       "      <td>0.652733</td>\n",
       "      <td>0.788235</td>\n",
       "      <td>0.054788</td>\n",
       "      <td>0.031313</td>\n",
       "      <td>Diseased</td>\n",
       "    </tr>\n",
       "    <tr>\n",
       "      <th>1</th>\n",
       "      <td>0.436679</td>\n",
       "      <td>0.972653</td>\n",
       "      <td>0.084998</td>\n",
       "      <td>0.180909</td>\n",
       "      <td>0.675736</td>\n",
       "      <td>0.563889</td>\n",
       "      <td>0.798382</td>\n",
       "      <td>0.670361</td>\n",
       "      <td>0.376092</td>\n",
       "      <td>0.184890</td>\n",
       "      <td>...</td>\n",
       "      <td>0.833540</td>\n",
       "      <td>0.153001</td>\n",
       "      <td>0.458533</td>\n",
       "      <td>0.401845</td>\n",
       "      <td>0.635969</td>\n",
       "      <td>0.574425</td>\n",
       "      <td>0.047025</td>\n",
       "      <td>0.607985</td>\n",
       "      <td>0.594123</td>\n",
       "      <td>Diseased</td>\n",
       "    </tr>\n",
       "    <tr>\n",
       "      <th>2</th>\n",
       "      <td>0.545697</td>\n",
       "      <td>0.324815</td>\n",
       "      <td>0.584467</td>\n",
       "      <td>0.475748</td>\n",
       "      <td>0.558596</td>\n",
       "      <td>0.661007</td>\n",
       "      <td>0.934056</td>\n",
       "      <td>0.381782</td>\n",
       "      <td>0.500342</td>\n",
       "      <td>0.531829</td>\n",
       "      <td>...</td>\n",
       "      <td>0.678901</td>\n",
       "      <td>0.220479</td>\n",
       "      <td>0.817151</td>\n",
       "      <td>0.690981</td>\n",
       "      <td>0.101633</td>\n",
       "      <td>0.855740</td>\n",
       "      <td>0.551124</td>\n",
       "      <td>0.413294</td>\n",
       "      <td>0.070909</td>\n",
       "      <td>Diseased</td>\n",
       "    </tr>\n",
       "    <tr>\n",
       "      <th>3</th>\n",
       "      <td>0.172994</td>\n",
       "      <td>0.050351</td>\n",
       "      <td>0.736000</td>\n",
       "      <td>0.782022</td>\n",
       "      <td>0.069435</td>\n",
       "      <td>0.085219</td>\n",
       "      <td>0.032907</td>\n",
       "      <td>0.460619</td>\n",
       "      <td>0.785448</td>\n",
       "      <td>0.491495</td>\n",
       "      <td>...</td>\n",
       "      <td>0.381500</td>\n",
       "      <td>0.459396</td>\n",
       "      <td>0.420154</td>\n",
       "      <td>0.798537</td>\n",
       "      <td>0.399236</td>\n",
       "      <td>0.324600</td>\n",
       "      <td>0.499504</td>\n",
       "      <td>0.436662</td>\n",
       "      <td>0.242766</td>\n",
       "      <td>Diseased</td>\n",
       "    </tr>\n",
       "    <tr>\n",
       "      <th>4</th>\n",
       "      <td>0.758534</td>\n",
       "      <td>0.739968</td>\n",
       "      <td>0.597868</td>\n",
       "      <td>0.772683</td>\n",
       "      <td>0.875720</td>\n",
       "      <td>0.860265</td>\n",
       "      <td>0.486189</td>\n",
       "      <td>0.486686</td>\n",
       "      <td>0.621048</td>\n",
       "      <td>0.191756</td>\n",
       "      <td>...</td>\n",
       "      <td>0.993381</td>\n",
       "      <td>0.272338</td>\n",
       "      <td>0.663579</td>\n",
       "      <td>0.265227</td>\n",
       "      <td>0.918847</td>\n",
       "      <td>0.804910</td>\n",
       "      <td>0.571119</td>\n",
       "      <td>0.188368</td>\n",
       "      <td>0.750848</td>\n",
       "      <td>Diseased</td>\n",
       "    </tr>\n",
       "  </tbody>\n",
       "</table>\n",
       "<p>5 rows × 25 columns</p>\n",
       "</div>"
      ],
      "text/plain": [
       "    Glucose  Cholesterol  Hemoglobin  Platelets  White Blood Cells  \\\n",
       "0  0.001827     0.033693    0.114755   0.997927           0.562604   \n",
       "1  0.436679     0.972653    0.084998   0.180909           0.675736   \n",
       "2  0.545697     0.324815    0.584467   0.475748           0.558596   \n",
       "3  0.172994     0.050351    0.736000   0.782022           0.069435   \n",
       "4  0.758534     0.739968    0.597868   0.772683           0.875720   \n",
       "\n",
       "   Red Blood Cells  Hematocrit  Mean Corpuscular Volume  \\\n",
       "0         0.866499    0.578042                 0.914615   \n",
       "1         0.563889    0.798382                 0.670361   \n",
       "2         0.661007    0.934056                 0.381782   \n",
       "3         0.085219    0.032907                 0.460619   \n",
       "4         0.860265    0.486189                 0.486686   \n",
       "\n",
       "   Mean Corpuscular Hemoglobin  Mean Corpuscular Hemoglobin Concentration  \\\n",
       "0                     0.026864                                   0.038641   \n",
       "1                     0.376092                                   0.184890   \n",
       "2                     0.500342                                   0.531829   \n",
       "3                     0.785448                                   0.491495   \n",
       "4                     0.621048                                   0.191756   \n",
       "\n",
       "   ...     HbA1c  LDL Cholesterol  HDL Cholesterol       ALT       AST  \\\n",
       "0  ...  0.653230         0.186104         0.430398  0.016678  0.885352   \n",
       "1  ...  0.833540         0.153001         0.458533  0.401845  0.635969   \n",
       "2  ...  0.678901         0.220479         0.817151  0.690981  0.101633   \n",
       "3  ...  0.381500         0.459396         0.420154  0.798537  0.399236   \n",
       "4  ...  0.993381         0.272338         0.663579  0.265227  0.918847   \n",
       "\n",
       "   Heart Rate  Creatinine  Troponin  C-reactive Protein   Disease  \n",
       "0    0.652733    0.788235  0.054788            0.031313  Diseased  \n",
       "1    0.574425    0.047025  0.607985            0.594123  Diseased  \n",
       "2    0.855740    0.551124  0.413294            0.070909  Diseased  \n",
       "3    0.324600    0.499504  0.436662            0.242766  Diseased  \n",
       "4    0.804910    0.571119  0.188368            0.750848  Diseased  \n",
       "\n",
       "[5 rows x 25 columns]"
      ]
     },
     "execution_count": 5,
     "metadata": {},
     "output_type": "execute_result"
    }
   ],
   "source": [
    "test_data.head()"
   ]
  },
  {
   "cell_type": "code",
   "execution_count": 6,
   "id": "ecf67d6f-62bd-4bc1-afe3-1982fdd3e25c",
   "metadata": {},
   "outputs": [
    {
     "data": {
      "text/plain": [
       "(2351, 25)"
      ]
     },
     "execution_count": 6,
     "metadata": {},
     "output_type": "execute_result"
    }
   ],
   "source": [
    "train_data.shape"
   ]
  },
  {
   "cell_type": "code",
   "execution_count": 7,
   "id": "8b6d9062-6040-4d70-99ad-a2e9d57d0681",
   "metadata": {},
   "outputs": [
    {
     "data": {
      "text/plain": [
       "(486, 25)"
      ]
     },
     "execution_count": 7,
     "metadata": {},
     "output_type": "execute_result"
    }
   ],
   "source": [
    "test_data.shape"
   ]
  },
  {
   "cell_type": "code",
   "execution_count": 8,
   "id": "705823de-b44e-499d-a5b0-d94837b15053",
   "metadata": {},
   "outputs": [
    {
     "name": "stdout",
     "output_type": "stream",
     "text": [
      "<class 'pandas.core.frame.DataFrame'>\n",
      "RangeIndex: 2351 entries, 0 to 2350\n",
      "Data columns (total 25 columns):\n",
      " #   Column                                     Non-Null Count  Dtype  \n",
      "---  ------                                     --------------  -----  \n",
      " 0   Glucose                                    2351 non-null   float64\n",
      " 1   Cholesterol                                2351 non-null   float64\n",
      " 2   Hemoglobin                                 2351 non-null   float64\n",
      " 3   Platelets                                  2351 non-null   float64\n",
      " 4   White Blood Cells                          2351 non-null   float64\n",
      " 5   Red Blood Cells                            2351 non-null   float64\n",
      " 6   Hematocrit                                 2351 non-null   float64\n",
      " 7   Mean Corpuscular Volume                    2351 non-null   float64\n",
      " 8   Mean Corpuscular Hemoglobin                2351 non-null   float64\n",
      " 9   Mean Corpuscular Hemoglobin Concentration  2351 non-null   float64\n",
      " 10  Insulin                                    2351 non-null   float64\n",
      " 11  BMI                                        2351 non-null   float64\n",
      " 12  Systolic Blood Pressure                    2351 non-null   float64\n",
      " 13  Diastolic Blood Pressure                   2351 non-null   float64\n",
      " 14  Triglycerides                              2351 non-null   float64\n",
      " 15  HbA1c                                      2351 non-null   float64\n",
      " 16  LDL Cholesterol                            2351 non-null   float64\n",
      " 17  HDL Cholesterol                            2351 non-null   float64\n",
      " 18  ALT                                        2351 non-null   float64\n",
      " 19  AST                                        2351 non-null   float64\n",
      " 20  Heart Rate                                 2351 non-null   float64\n",
      " 21  Creatinine                                 2351 non-null   float64\n",
      " 22  Troponin                                   2351 non-null   float64\n",
      " 23  C-reactive Protein                         2351 non-null   float64\n",
      " 24  Disease                                    2351 non-null   object \n",
      "dtypes: float64(24), object(1)\n",
      "memory usage: 459.3+ KB\n"
     ]
    }
   ],
   "source": [
    "#information on the dataset\n",
    "train_data.info()"
   ]
  },
  {
   "cell_type": "code",
   "execution_count": 9,
   "id": "47a2f852-5cdc-411c-bbba-0aaa0dfde90a",
   "metadata": {},
   "outputs": [
    {
     "name": "stdout",
     "output_type": "stream",
     "text": [
      "<class 'pandas.core.frame.DataFrame'>\n",
      "RangeIndex: 486 entries, 0 to 485\n",
      "Data columns (total 25 columns):\n",
      " #   Column                                     Non-Null Count  Dtype  \n",
      "---  ------                                     --------------  -----  \n",
      " 0   Glucose                                    486 non-null    float64\n",
      " 1   Cholesterol                                486 non-null    float64\n",
      " 2   Hemoglobin                                 486 non-null    float64\n",
      " 3   Platelets                                  486 non-null    float64\n",
      " 4   White Blood Cells                          486 non-null    float64\n",
      " 5   Red Blood Cells                            486 non-null    float64\n",
      " 6   Hematocrit                                 486 non-null    float64\n",
      " 7   Mean Corpuscular Volume                    486 non-null    float64\n",
      " 8   Mean Corpuscular Hemoglobin                486 non-null    float64\n",
      " 9   Mean Corpuscular Hemoglobin Concentration  486 non-null    float64\n",
      " 10  Insulin                                    486 non-null    float64\n",
      " 11  BMI                                        486 non-null    float64\n",
      " 12  Systolic Blood Pressure                    486 non-null    float64\n",
      " 13  Diastolic Blood Pressure                   486 non-null    float64\n",
      " 14  Triglycerides                              486 non-null    float64\n",
      " 15  HbA1c                                      486 non-null    float64\n",
      " 16  LDL Cholesterol                            486 non-null    float64\n",
      " 17  HDL Cholesterol                            486 non-null    float64\n",
      " 18  ALT                                        486 non-null    float64\n",
      " 19  AST                                        486 non-null    float64\n",
      " 20  Heart Rate                                 486 non-null    float64\n",
      " 21  Creatinine                                 486 non-null    float64\n",
      " 22  Troponin                                   486 non-null    float64\n",
      " 23  C-reactive Protein                         486 non-null    float64\n",
      " 24  Disease                                    486 non-null    object \n",
      "dtypes: float64(24), object(1)\n",
      "memory usage: 95.1+ KB\n"
     ]
    }
   ],
   "source": [
    "test_data.info()"
   ]
  },
  {
   "cell_type": "code",
   "execution_count": 10,
   "id": "262b2232-ad27-4d32-8586-1eb1312e2fc4",
   "metadata": {},
   "outputs": [
    {
     "data": {
      "text/plain": [
       "Glucose                                      0\n",
       "Cholesterol                                  0\n",
       "Hemoglobin                                   0\n",
       "Platelets                                    0\n",
       "White Blood Cells                            0\n",
       "Red Blood Cells                              0\n",
       "Hematocrit                                   0\n",
       "Mean Corpuscular Volume                      0\n",
       "Mean Corpuscular Hemoglobin                  0\n",
       "Mean Corpuscular Hemoglobin Concentration    0\n",
       "Insulin                                      0\n",
       "BMI                                          0\n",
       "Systolic Blood Pressure                      0\n",
       "Diastolic Blood Pressure                     0\n",
       "Triglycerides                                0\n",
       "HbA1c                                        0\n",
       "LDL Cholesterol                              0\n",
       "HDL Cholesterol                              0\n",
       "ALT                                          0\n",
       "AST                                          0\n",
       "Heart Rate                                   0\n",
       "Creatinine                                   0\n",
       "Troponin                                     0\n",
       "C-reactive Protein                           0\n",
       "Disease                                      0\n",
       "dtype: int64"
      ]
     },
     "execution_count": 10,
     "metadata": {},
     "output_type": "execute_result"
    }
   ],
   "source": [
    "#checking missing values\n",
    "train_data.isnull().sum()"
   ]
  },
  {
   "cell_type": "code",
   "execution_count": 11,
   "id": "a0c2dd96-6673-49dc-9f91-26eb9e56c0bf",
   "metadata": {},
   "outputs": [
    {
     "data": {
      "text/plain": [
       "Glucose                                      0\n",
       "Cholesterol                                  0\n",
       "Hemoglobin                                   0\n",
       "Platelets                                    0\n",
       "White Blood Cells                            0\n",
       "Red Blood Cells                              0\n",
       "Hematocrit                                   0\n",
       "Mean Corpuscular Volume                      0\n",
       "Mean Corpuscular Hemoglobin                  0\n",
       "Mean Corpuscular Hemoglobin Concentration    0\n",
       "Insulin                                      0\n",
       "BMI                                          0\n",
       "Systolic Blood Pressure                      0\n",
       "Diastolic Blood Pressure                     0\n",
       "Triglycerides                                0\n",
       "HbA1c                                        0\n",
       "LDL Cholesterol                              0\n",
       "HDL Cholesterol                              0\n",
       "ALT                                          0\n",
       "AST                                          0\n",
       "Heart Rate                                   0\n",
       "Creatinine                                   0\n",
       "Troponin                                     0\n",
       "C-reactive Protein                           0\n",
       "Disease                                      0\n",
       "dtype: int64"
      ]
     },
     "execution_count": 11,
     "metadata": {},
     "output_type": "execute_result"
    }
   ],
   "source": [
    "test_data.isnull().sum()"
   ]
  },
  {
   "cell_type": "code",
   "execution_count": 12,
   "id": "ee485d76-e0f1-4b10-bf60-2e67a0aebd02",
   "metadata": {},
   "outputs": [
    {
     "data": {
      "text/plain": [
       "array(['Non-diseased', 'Diseased'], dtype=object)"
      ]
     },
     "execution_count": 12,
     "metadata": {},
     "output_type": "execute_result"
    }
   ],
   "source": [
    "#unique categorical values\n",
    "train_data['Disease'].unique()"
   ]
  },
  {
   "cell_type": "code",
   "execution_count": 13,
   "id": "9a60d7f5-3dd3-4e46-8270-280920b8f2c1",
   "metadata": {},
   "outputs": [
    {
     "data": {
      "text/plain": [
       "array(['Diseased', 'Non-diseased'], dtype=object)"
      ]
     },
     "execution_count": 13,
     "metadata": {},
     "output_type": "execute_result"
    }
   ],
   "source": [
    "test_data['Disease'].unique()"
   ]
  },
  {
   "cell_type": "code",
   "execution_count": 14,
   "id": "a9c524d7-7055-4de8-903d-e9fe6e3f2471",
   "metadata": {},
   "outputs": [
    {
     "data": {
      "text/plain": [
       "Disease\n",
       "Diseased        1795\n",
       "Non-diseased     556\n",
       "Name: count, dtype: int64"
      ]
     },
     "execution_count": 14,
     "metadata": {},
     "output_type": "execute_result"
    }
   ],
   "source": [
    "#count of categorical values\n",
    "train_data['Disease'].value_counts()"
   ]
  },
  {
   "cell_type": "code",
   "execution_count": 15,
   "id": "fa018f01-1701-494f-903b-b28a8f22da43",
   "metadata": {},
   "outputs": [
    {
     "data": {
      "text/plain": [
       "Disease\n",
       "Diseased        481\n",
       "Non-diseased      5\n",
       "Name: count, dtype: int64"
      ]
     },
     "execution_count": 15,
     "metadata": {},
     "output_type": "execute_result"
    }
   ],
   "source": [
    "test_data['Disease'].value_counts()"
   ]
  },
  {
   "cell_type": "code",
   "execution_count": 16,
   "id": "4f3ccb88-2487-4d42-920c-dd9c96618bf7",
   "metadata": {},
   "outputs": [],
   "source": [
    "#import labelEncoder\n",
    "from sklearn.preprocessing import LabelEncoder"
   ]
  },
  {
   "cell_type": "code",
   "execution_count": 17,
   "id": "13bba3c6-55d9-4d4e-b4d3-1fb5251b841b",
   "metadata": {},
   "outputs": [
    {
     "name": "stdout",
     "output_type": "stream",
     "text": [
      "LabelEncoder()\n"
     ]
    }
   ],
   "source": [
    "label_encoder=LabelEncoder()\n",
    "print(label_encoder)"
   ]
  },
  {
   "cell_type": "code",
   "execution_count": 18,
   "id": "a266bbdd-6def-438c-b39c-fef45af748c4",
   "metadata": {},
   "outputs": [],
   "source": [
    "train_data['Disease']=label_encoder.fit_transform(train_data['Disease'])"
   ]
  },
  {
   "cell_type": "code",
   "execution_count": 19,
   "id": "3b851875-a75d-4d6e-aad6-0721b96105d3",
   "metadata": {},
   "outputs": [],
   "source": [
    "test_data['Disease']=label_encoder.fit_transform(test_data['Disease'])"
   ]
  },
  {
   "cell_type": "code",
   "execution_count": 20,
   "id": "350a5e33-1e4d-4869-a9cb-b1ea4eb784f2",
   "metadata": {},
   "outputs": [
    {
     "data": {
      "text/html": [
       "<div>\n",
       "<style scoped>\n",
       "    .dataframe tbody tr th:only-of-type {\n",
       "        vertical-align: middle;\n",
       "    }\n",
       "\n",
       "    .dataframe tbody tr th {\n",
       "        vertical-align: top;\n",
       "    }\n",
       "\n",
       "    .dataframe thead th {\n",
       "        text-align: right;\n",
       "    }\n",
       "</style>\n",
       "<table border=\"1\" class=\"dataframe\">\n",
       "  <thead>\n",
       "    <tr style=\"text-align: right;\">\n",
       "      <th></th>\n",
       "      <th>Glucose</th>\n",
       "      <th>Cholesterol</th>\n",
       "      <th>Hemoglobin</th>\n",
       "      <th>Platelets</th>\n",
       "      <th>White Blood Cells</th>\n",
       "      <th>Red Blood Cells</th>\n",
       "      <th>Hematocrit</th>\n",
       "      <th>Mean Corpuscular Volume</th>\n",
       "      <th>Mean Corpuscular Hemoglobin</th>\n",
       "      <th>Mean Corpuscular Hemoglobin Concentration</th>\n",
       "      <th>...</th>\n",
       "      <th>HbA1c</th>\n",
       "      <th>LDL Cholesterol</th>\n",
       "      <th>HDL Cholesterol</th>\n",
       "      <th>ALT</th>\n",
       "      <th>AST</th>\n",
       "      <th>Heart Rate</th>\n",
       "      <th>Creatinine</th>\n",
       "      <th>Troponin</th>\n",
       "      <th>C-reactive Protein</th>\n",
       "      <th>Disease</th>\n",
       "    </tr>\n",
       "  </thead>\n",
       "  <tbody>\n",
       "    <tr>\n",
       "      <th>0</th>\n",
       "      <td>0.739597</td>\n",
       "      <td>0.650198</td>\n",
       "      <td>0.713631</td>\n",
       "      <td>0.868491</td>\n",
       "      <td>0.687433</td>\n",
       "      <td>0.529895</td>\n",
       "      <td>0.290006</td>\n",
       "      <td>0.631045</td>\n",
       "      <td>0.001328</td>\n",
       "      <td>0.795829</td>\n",
       "      <td>...</td>\n",
       "      <td>0.502665</td>\n",
       "      <td>0.215560</td>\n",
       "      <td>0.512941</td>\n",
       "      <td>0.064187</td>\n",
       "      <td>0.610827</td>\n",
       "      <td>0.939485</td>\n",
       "      <td>0.095512</td>\n",
       "      <td>0.465957</td>\n",
       "      <td>0.769230</td>\n",
       "      <td>1</td>\n",
       "    </tr>\n",
       "    <tr>\n",
       "      <th>1</th>\n",
       "      <td>0.121786</td>\n",
       "      <td>0.023058</td>\n",
       "      <td>0.944893</td>\n",
       "      <td>0.905372</td>\n",
       "      <td>0.507711</td>\n",
       "      <td>0.403033</td>\n",
       "      <td>0.164216</td>\n",
       "      <td>0.307553</td>\n",
       "      <td>0.207938</td>\n",
       "      <td>0.505562</td>\n",
       "      <td>...</td>\n",
       "      <td>0.856810</td>\n",
       "      <td>0.652465</td>\n",
       "      <td>0.106961</td>\n",
       "      <td>0.942549</td>\n",
       "      <td>0.344261</td>\n",
       "      <td>0.666368</td>\n",
       "      <td>0.659060</td>\n",
       "      <td>0.816982</td>\n",
       "      <td>0.401166</td>\n",
       "      <td>0</td>\n",
       "    </tr>\n",
       "    <tr>\n",
       "      <th>2</th>\n",
       "      <td>0.452539</td>\n",
       "      <td>0.116135</td>\n",
       "      <td>0.544560</td>\n",
       "      <td>0.400640</td>\n",
       "      <td>0.294538</td>\n",
       "      <td>0.382021</td>\n",
       "      <td>0.625267</td>\n",
       "      <td>0.295122</td>\n",
       "      <td>0.868369</td>\n",
       "      <td>0.026808</td>\n",
       "      <td>...</td>\n",
       "      <td>0.466795</td>\n",
       "      <td>0.387332</td>\n",
       "      <td>0.421763</td>\n",
       "      <td>0.007186</td>\n",
       "      <td>0.506918</td>\n",
       "      <td>0.431704</td>\n",
       "      <td>0.417295</td>\n",
       "      <td>0.799074</td>\n",
       "      <td>0.779208</td>\n",
       "      <td>0</td>\n",
       "    </tr>\n",
       "    <tr>\n",
       "      <th>3</th>\n",
       "      <td>0.136609</td>\n",
       "      <td>0.015605</td>\n",
       "      <td>0.419957</td>\n",
       "      <td>0.191487</td>\n",
       "      <td>0.081168</td>\n",
       "      <td>0.166214</td>\n",
       "      <td>0.073293</td>\n",
       "      <td>0.668719</td>\n",
       "      <td>0.125447</td>\n",
       "      <td>0.501051</td>\n",
       "      <td>...</td>\n",
       "      <td>0.016256</td>\n",
       "      <td>0.040137</td>\n",
       "      <td>0.826721</td>\n",
       "      <td>0.265415</td>\n",
       "      <td>0.594148</td>\n",
       "      <td>0.225756</td>\n",
       "      <td>0.490349</td>\n",
       "      <td>0.637061</td>\n",
       "      <td>0.354094</td>\n",
       "      <td>0</td>\n",
       "    </tr>\n",
       "    <tr>\n",
       "      <th>4</th>\n",
       "      <td>0.176737</td>\n",
       "      <td>0.752220</td>\n",
       "      <td>0.971779</td>\n",
       "      <td>0.785286</td>\n",
       "      <td>0.443880</td>\n",
       "      <td>0.439851</td>\n",
       "      <td>0.894991</td>\n",
       "      <td>0.442159</td>\n",
       "      <td>0.257288</td>\n",
       "      <td>0.805987</td>\n",
       "      <td>...</td>\n",
       "      <td>0.429431</td>\n",
       "      <td>0.146294</td>\n",
       "      <td>0.221574</td>\n",
       "      <td>0.015280</td>\n",
       "      <td>0.567115</td>\n",
       "      <td>0.841412</td>\n",
       "      <td>0.153350</td>\n",
       "      <td>0.794008</td>\n",
       "      <td>0.094970</td>\n",
       "      <td>0</td>\n",
       "    </tr>\n",
       "  </tbody>\n",
       "</table>\n",
       "<p>5 rows × 25 columns</p>\n",
       "</div>"
      ],
      "text/plain": [
       "    Glucose  Cholesterol  Hemoglobin  Platelets  White Blood Cells  \\\n",
       "0  0.739597     0.650198    0.713631   0.868491           0.687433   \n",
       "1  0.121786     0.023058    0.944893   0.905372           0.507711   \n",
       "2  0.452539     0.116135    0.544560   0.400640           0.294538   \n",
       "3  0.136609     0.015605    0.419957   0.191487           0.081168   \n",
       "4  0.176737     0.752220    0.971779   0.785286           0.443880   \n",
       "\n",
       "   Red Blood Cells  Hematocrit  Mean Corpuscular Volume  \\\n",
       "0         0.529895    0.290006                 0.631045   \n",
       "1         0.403033    0.164216                 0.307553   \n",
       "2         0.382021    0.625267                 0.295122   \n",
       "3         0.166214    0.073293                 0.668719   \n",
       "4         0.439851    0.894991                 0.442159   \n",
       "\n",
       "   Mean Corpuscular Hemoglobin  Mean Corpuscular Hemoglobin Concentration  \\\n",
       "0                     0.001328                                   0.795829   \n",
       "1                     0.207938                                   0.505562   \n",
       "2                     0.868369                                   0.026808   \n",
       "3                     0.125447                                   0.501051   \n",
       "4                     0.257288                                   0.805987   \n",
       "\n",
       "   ...     HbA1c  LDL Cholesterol  HDL Cholesterol       ALT       AST  \\\n",
       "0  ...  0.502665         0.215560         0.512941  0.064187  0.610827   \n",
       "1  ...  0.856810         0.652465         0.106961  0.942549  0.344261   \n",
       "2  ...  0.466795         0.387332         0.421763  0.007186  0.506918   \n",
       "3  ...  0.016256         0.040137         0.826721  0.265415  0.594148   \n",
       "4  ...  0.429431         0.146294         0.221574  0.015280  0.567115   \n",
       "\n",
       "   Heart Rate  Creatinine  Troponin  C-reactive Protein  Disease  \n",
       "0    0.939485    0.095512  0.465957            0.769230        1  \n",
       "1    0.666368    0.659060  0.816982            0.401166        0  \n",
       "2    0.431704    0.417295  0.799074            0.779208        0  \n",
       "3    0.225756    0.490349  0.637061            0.354094        0  \n",
       "4    0.841412    0.153350  0.794008            0.094970        0  \n",
       "\n",
       "[5 rows x 25 columns]"
      ]
     },
     "execution_count": 20,
     "metadata": {},
     "output_type": "execute_result"
    }
   ],
   "source": [
    "train_data.head()"
   ]
  },
  {
   "cell_type": "code",
   "execution_count": 21,
   "id": "39b34760-4747-4164-b904-87198f676d4b",
   "metadata": {},
   "outputs": [
    {
     "data": {
      "text/html": [
       "<div>\n",
       "<style scoped>\n",
       "    .dataframe tbody tr th:only-of-type {\n",
       "        vertical-align: middle;\n",
       "    }\n",
       "\n",
       "    .dataframe tbody tr th {\n",
       "        vertical-align: top;\n",
       "    }\n",
       "\n",
       "    .dataframe thead th {\n",
       "        text-align: right;\n",
       "    }\n",
       "</style>\n",
       "<table border=\"1\" class=\"dataframe\">\n",
       "  <thead>\n",
       "    <tr style=\"text-align: right;\">\n",
       "      <th></th>\n",
       "      <th>Glucose</th>\n",
       "      <th>Cholesterol</th>\n",
       "      <th>Hemoglobin</th>\n",
       "      <th>Platelets</th>\n",
       "      <th>White Blood Cells</th>\n",
       "      <th>Red Blood Cells</th>\n",
       "      <th>Hematocrit</th>\n",
       "      <th>Mean Corpuscular Volume</th>\n",
       "      <th>Mean Corpuscular Hemoglobin</th>\n",
       "      <th>Mean Corpuscular Hemoglobin Concentration</th>\n",
       "      <th>...</th>\n",
       "      <th>HbA1c</th>\n",
       "      <th>LDL Cholesterol</th>\n",
       "      <th>HDL Cholesterol</th>\n",
       "      <th>ALT</th>\n",
       "      <th>AST</th>\n",
       "      <th>Heart Rate</th>\n",
       "      <th>Creatinine</th>\n",
       "      <th>Troponin</th>\n",
       "      <th>C-reactive Protein</th>\n",
       "      <th>Disease</th>\n",
       "    </tr>\n",
       "  </thead>\n",
       "  <tbody>\n",
       "    <tr>\n",
       "      <th>0</th>\n",
       "      <td>0.001827</td>\n",
       "      <td>0.033693</td>\n",
       "      <td>0.114755</td>\n",
       "      <td>0.997927</td>\n",
       "      <td>0.562604</td>\n",
       "      <td>0.866499</td>\n",
       "      <td>0.578042</td>\n",
       "      <td>0.914615</td>\n",
       "      <td>0.026864</td>\n",
       "      <td>0.038641</td>\n",
       "      <td>...</td>\n",
       "      <td>0.653230</td>\n",
       "      <td>0.186104</td>\n",
       "      <td>0.430398</td>\n",
       "      <td>0.016678</td>\n",
       "      <td>0.885352</td>\n",
       "      <td>0.652733</td>\n",
       "      <td>0.788235</td>\n",
       "      <td>0.054788</td>\n",
       "      <td>0.031313</td>\n",
       "      <td>0</td>\n",
       "    </tr>\n",
       "    <tr>\n",
       "      <th>1</th>\n",
       "      <td>0.436679</td>\n",
       "      <td>0.972653</td>\n",
       "      <td>0.084998</td>\n",
       "      <td>0.180909</td>\n",
       "      <td>0.675736</td>\n",
       "      <td>0.563889</td>\n",
       "      <td>0.798382</td>\n",
       "      <td>0.670361</td>\n",
       "      <td>0.376092</td>\n",
       "      <td>0.184890</td>\n",
       "      <td>...</td>\n",
       "      <td>0.833540</td>\n",
       "      <td>0.153001</td>\n",
       "      <td>0.458533</td>\n",
       "      <td>0.401845</td>\n",
       "      <td>0.635969</td>\n",
       "      <td>0.574425</td>\n",
       "      <td>0.047025</td>\n",
       "      <td>0.607985</td>\n",
       "      <td>0.594123</td>\n",
       "      <td>0</td>\n",
       "    </tr>\n",
       "    <tr>\n",
       "      <th>2</th>\n",
       "      <td>0.545697</td>\n",
       "      <td>0.324815</td>\n",
       "      <td>0.584467</td>\n",
       "      <td>0.475748</td>\n",
       "      <td>0.558596</td>\n",
       "      <td>0.661007</td>\n",
       "      <td>0.934056</td>\n",
       "      <td>0.381782</td>\n",
       "      <td>0.500342</td>\n",
       "      <td>0.531829</td>\n",
       "      <td>...</td>\n",
       "      <td>0.678901</td>\n",
       "      <td>0.220479</td>\n",
       "      <td>0.817151</td>\n",
       "      <td>0.690981</td>\n",
       "      <td>0.101633</td>\n",
       "      <td>0.855740</td>\n",
       "      <td>0.551124</td>\n",
       "      <td>0.413294</td>\n",
       "      <td>0.070909</td>\n",
       "      <td>0</td>\n",
       "    </tr>\n",
       "    <tr>\n",
       "      <th>3</th>\n",
       "      <td>0.172994</td>\n",
       "      <td>0.050351</td>\n",
       "      <td>0.736000</td>\n",
       "      <td>0.782022</td>\n",
       "      <td>0.069435</td>\n",
       "      <td>0.085219</td>\n",
       "      <td>0.032907</td>\n",
       "      <td>0.460619</td>\n",
       "      <td>0.785448</td>\n",
       "      <td>0.491495</td>\n",
       "      <td>...</td>\n",
       "      <td>0.381500</td>\n",
       "      <td>0.459396</td>\n",
       "      <td>0.420154</td>\n",
       "      <td>0.798537</td>\n",
       "      <td>0.399236</td>\n",
       "      <td>0.324600</td>\n",
       "      <td>0.499504</td>\n",
       "      <td>0.436662</td>\n",
       "      <td>0.242766</td>\n",
       "      <td>0</td>\n",
       "    </tr>\n",
       "    <tr>\n",
       "      <th>4</th>\n",
       "      <td>0.758534</td>\n",
       "      <td>0.739968</td>\n",
       "      <td>0.597868</td>\n",
       "      <td>0.772683</td>\n",
       "      <td>0.875720</td>\n",
       "      <td>0.860265</td>\n",
       "      <td>0.486189</td>\n",
       "      <td>0.486686</td>\n",
       "      <td>0.621048</td>\n",
       "      <td>0.191756</td>\n",
       "      <td>...</td>\n",
       "      <td>0.993381</td>\n",
       "      <td>0.272338</td>\n",
       "      <td>0.663579</td>\n",
       "      <td>0.265227</td>\n",
       "      <td>0.918847</td>\n",
       "      <td>0.804910</td>\n",
       "      <td>0.571119</td>\n",
       "      <td>0.188368</td>\n",
       "      <td>0.750848</td>\n",
       "      <td>0</td>\n",
       "    </tr>\n",
       "  </tbody>\n",
       "</table>\n",
       "<p>5 rows × 25 columns</p>\n",
       "</div>"
      ],
      "text/plain": [
       "    Glucose  Cholesterol  Hemoglobin  Platelets  White Blood Cells  \\\n",
       "0  0.001827     0.033693    0.114755   0.997927           0.562604   \n",
       "1  0.436679     0.972653    0.084998   0.180909           0.675736   \n",
       "2  0.545697     0.324815    0.584467   0.475748           0.558596   \n",
       "3  0.172994     0.050351    0.736000   0.782022           0.069435   \n",
       "4  0.758534     0.739968    0.597868   0.772683           0.875720   \n",
       "\n",
       "   Red Blood Cells  Hematocrit  Mean Corpuscular Volume  \\\n",
       "0         0.866499    0.578042                 0.914615   \n",
       "1         0.563889    0.798382                 0.670361   \n",
       "2         0.661007    0.934056                 0.381782   \n",
       "3         0.085219    0.032907                 0.460619   \n",
       "4         0.860265    0.486189                 0.486686   \n",
       "\n",
       "   Mean Corpuscular Hemoglobin  Mean Corpuscular Hemoglobin Concentration  \\\n",
       "0                     0.026864                                   0.038641   \n",
       "1                     0.376092                                   0.184890   \n",
       "2                     0.500342                                   0.531829   \n",
       "3                     0.785448                                   0.491495   \n",
       "4                     0.621048                                   0.191756   \n",
       "\n",
       "   ...     HbA1c  LDL Cholesterol  HDL Cholesterol       ALT       AST  \\\n",
       "0  ...  0.653230         0.186104         0.430398  0.016678  0.885352   \n",
       "1  ...  0.833540         0.153001         0.458533  0.401845  0.635969   \n",
       "2  ...  0.678901         0.220479         0.817151  0.690981  0.101633   \n",
       "3  ...  0.381500         0.459396         0.420154  0.798537  0.399236   \n",
       "4  ...  0.993381         0.272338         0.663579  0.265227  0.918847   \n",
       "\n",
       "   Heart Rate  Creatinine  Troponin  C-reactive Protein  Disease  \n",
       "0    0.652733    0.788235  0.054788            0.031313        0  \n",
       "1    0.574425    0.047025  0.607985            0.594123        0  \n",
       "2    0.855740    0.551124  0.413294            0.070909        0  \n",
       "3    0.324600    0.499504  0.436662            0.242766        0  \n",
       "4    0.804910    0.571119  0.188368            0.750848        0  \n",
       "\n",
       "[5 rows x 25 columns]"
      ]
     },
     "execution_count": 21,
     "metadata": {},
     "output_type": "execute_result"
    }
   ],
   "source": [
    "test_data.head()"
   ]
  },
  {
   "cell_type": "code",
   "execution_count": 22,
   "id": "fc302d8f-94fd-431a-b3b1-69c64d370683",
   "metadata": {},
   "outputs": [],
   "source": [
    "#splitting train data into predictants(X) and target(y)\n",
    "X_training=train_data.drop(columns='Disease',axis=1)\n",
    "Y_training=train_data['Disease']"
   ]
  },
  {
   "cell_type": "code",
   "execution_count": 23,
   "id": "49f32958-d21a-4717-9d3d-7643f6ad5b7e",
   "metadata": {},
   "outputs": [],
   "source": [
    "#splitting test data into predictants(X) and target(y)\n",
    "X_testing=test_data.drop(columns='Disease',axis=1)\n",
    "Y_testing=test_data['Disease']"
   ]
  },
  {
   "cell_type": "code",
   "execution_count": 24,
   "id": "ec89f9a2-c84e-47f7-b233-f0d20dd193c9",
   "metadata": {},
   "outputs": [],
   "source": [
    "#showing distribution on scatterplot\n",
    "Diseased_df=train_data[train_data['Disease']==0][0:556]\n",
    "NonDiseased_df=train_data[train_data['Disease']==1][0:556]"
   ]
  },
  {
   "cell_type": "code",
   "execution_count": 25,
   "id": "2afa9e4f-ac24-4ff7-822a-9757d84bbab7",
   "metadata": {},
   "outputs": [
    {
     "data": {
      "text/plain": [
       "<Axes: xlabel='Glucose', ylabel='Cholesterol'>"
      ]
     },
     "execution_count": 25,
     "metadata": {},
     "output_type": "execute_result"
    },
    {
     "data": {
      "image/png": "[encoded data removed]",
      "text/plain": [
       "<Figure size 640x480 with 1 Axes>"
      ]
     },
     "metadata": {},
     "output_type": "display_data"
    }
   ],
   "source": [
    "axes=Diseased_df.plot(kind='scatter',x='Glucose',y='Cholesterol',color='blue',label='diseased')\n",
    "NonDiseased_df.plot(kind='scatter',x='Glucose',y='Cholesterol',color='red',label='Non-diseased',ax=axes)"
   ]
  },
  {
   "cell_type": "code",
   "execution_count": 26,
   "id": "09b0fd1a-4dfc-442f-a96a-98b355d36f1c",
   "metadata": {},
   "outputs": [],
   "source": [
    "#The result is processed and thereby scaling the inputs\n",
    "#we reprocess and thereby scaling the inputs\n",
    "from sklearn.preprocessing import StandardScaler"
   ]
  },
  {
   "cell_type": "code",
   "execution_count": 27,
   "id": "be621365-3d73-433c-83fa-067f60b13619",
   "metadata": {},
   "outputs": [],
   "source": [
    "scaler=StandardScaler()"
   ]
  },
  {
   "cell_type": "code",
   "execution_count": 28,
   "id": "c62958c8-2abe-4483-a6b1-d9d5dfac1dfa",
   "metadata": {},
   "outputs": [],
   "source": [
    "X_train_s=scaler.fit_transform(X_training)"
   ]
  },
  {
   "cell_type": "code",
   "execution_count": 29,
   "id": "4f3908ff-e97d-4e3d-9c5d-b649b74bedbb",
   "metadata": {},
   "outputs": [],
   "source": [
    "X_test_s=scaler.transform(X_testing)"
   ]
  },
  {
   "cell_type": "code",
   "execution_count": 30,
   "id": "75414083-e2f8-468c-881b-5bf0a236d636",
   "metadata": {},
   "outputs": [],
   "source": [
    "#Training with support vector machine and Evaluation\n",
    "from sklearn.svm import SVC\n",
    "from sklearn.metrics import accuracy_score, confusion_matrix"
   ]
  },
  {
   "cell_type": "code",
   "execution_count": 31,
   "id": "a27177fe-a31e-4564-937f-d71963d6eaa4",
   "metadata": {},
   "outputs": [],
   "source": [
    "svc=SVC(random_state=101)"
   ]
  },
  {
   "cell_type": "code",
   "execution_count": 32,
   "id": "c939c754-e8b5-4704-b4c2-fe8c89689f2a",
   "metadata": {},
   "outputs": [
    {
     "data": {
      "text/html": [
       "<style>#sk-container-id-1 {color: black;}#sk-container-id-1 pre{padding: 0;}#sk-container-id-1 div.sk-toggleable {background-color: white;}#sk-container-id-1 label.sk-toggleable__label {cursor: pointer;display: block;width: 100%;margin-bottom: 0;padding: 0.3em;box-sizing: border-box;text-align: center;}#sk-container-id-1 label.sk-toggleable__label-arrow:before {content: \"▸\";float: left;margin-right: 0.25em;color: #696969;}#sk-container-id-1 label.sk-toggleable__label-arrow:hover:before {color: black;}#sk-container-id-1 div.sk-estimator:hover label.sk-toggleable__label-arrow:before {color: black;}#sk-container-id-1 div.sk-toggleable__content {max-height: 0;max-width: 0;overflow: hidden;text-align: left;background-color: #f0f8ff;}#sk-container-id-1 div.sk-toggleable__content pre {margin: 0.2em;color: black;border-radius: 0.25em;background-color: #f0f8ff;}#sk-container-id-1 input.sk-toggleable__control:checked~div.sk-toggleable__content {max-height: 200px;max-width: 100%;overflow: auto;}#sk-container-id-1 input.sk-toggleable__control:checked~label.sk-toggleable__label-arrow:before {content: \"▾\";}#sk-container-id-1 div.sk-estimator input.sk-toggleable__control:checked~label.sk-toggleable__label {background-color: #d4ebff;}#sk-container-id-1 div.sk-label input.sk-toggleable__control:checked~label.sk-toggleable__label {background-color: #d4ebff;}#sk-container-id-1 input.sk-hidden--visually {border: 0;clip: rect(1px 1px 1px 1px);clip: rect(1px, 1px, 1px, 1px);height: 1px;margin: -1px;overflow: hidden;padding: 0;position: absolute;width: 1px;}#sk-container-id-1 div.sk-estimator {font-family: monospace;background-color: #f0f8ff;border: 1px dotted black;border-radius: 0.25em;box-sizing: border-box;margin-bottom: 0.5em;}#sk-container-id-1 div.sk-estimator:hover {background-color: #d4ebff;}#sk-container-id-1 div.sk-parallel-item::after {content: \"\";width: 100%;border-bottom: 1px solid gray;flex-grow: 1;}#sk-container-id-1 div.sk-label:hover label.sk-toggleable__label {background-color: #d4ebff;}#sk-container-id-1 div.sk-serial::before {content: \"\";position: absolute;border-left: 1px solid gray;box-sizing: border-box;top: 0;bottom: 0;left: 50%;z-index: 0;}#sk-container-id-1 div.sk-serial {display: flex;flex-direction: column;align-items: center;background-color: white;padding-right: 0.2em;padding-left: 0.2em;position: relative;}#sk-container-id-1 div.sk-item {position: relative;z-index: 1;}#sk-container-id-1 div.sk-parallel {display: flex;align-items: stretch;justify-content: center;background-color: white;position: relative;}#sk-container-id-1 div.sk-item::before, #sk-container-id-1 div.sk-parallel-item::before {content: \"\";position: absolute;border-left: 1px solid gray;box-sizing: border-box;top: 0;bottom: 0;left: 50%;z-index: -1;}#sk-container-id-1 div.sk-parallel-item {display: flex;flex-direction: column;z-index: 1;position: relative;background-color: white;}#sk-container-id-1 div.sk-parallel-item:first-child::after {align-self: flex-end;width: 50%;}#sk-container-id-1 div.sk-parallel-item:last-child::after {align-self: flex-start;width: 50%;}#sk-container-id-1 div.sk-parallel-item:only-child::after {width: 0;}#sk-container-id-1 div.sk-dashed-wrapped {border: 1px dashed gray;margin: 0 0.4em 0.5em 0.4em;box-sizing: border-box;padding-bottom: 0.4em;background-color: white;}#sk-container-id-1 div.sk-label label {font-family: monospace;font-weight: bold;display: inline-block;line-height: 1.2em;}#sk-container-id-1 div.sk-label-container {text-align: center;}#sk-container-id-1 div.sk-container {/* jupyter's `normalize.less` sets `[hidden] { display: none; }` but bootstrap.min.css set `[hidden] { display: none !important; }` so we also need the `!important` here to be able to override the default hidden behavior on the sphinx rendered scikit-learn.org. See: https://github.com/scikit-learn/scikit-learn/issues/21755 */display: inline-block !important;position: relative;}#sk-container-id-1 div.sk-text-repr-fallback {display: none;}</style><div id=\"sk-container-id-1\" class=\"sk-top-container\"><div class=\"sk-text-repr-fallback\"><pre>SVC(random_state=101)</pre><b>In a Jupyter environment, please rerun this cell to show the HTML representation or trust the notebook. <br />On GitHub, the HTML representation is unable to render, please try loading this page with nbviewer.org.</b></div><div class=\"sk-container\" hidden><div class=\"sk-item\"><div class=\"sk-estimator sk-toggleable\"><input class=\"sk-toggleable__control sk-hidden--visually\" id=\"sk-estimator-id-1\" type=\"checkbox\" checked><label for=\"sk-estimator-id-1\" class=\"sk-toggleable__label sk-toggleable__label-arrow\">SVC</label><div class=\"sk-toggleable__content\"><pre>SVC(random_state=101)</pre></div></div></div></div></div>"
      ],
      "text/plain": [
       "SVC(random_state=101)"
      ]
     },
     "execution_count": 32,
     "metadata": {},
     "output_type": "execute_result"
    }
   ],
   "source": [
    "svc.fit(X_train_s,Y_training)"
   ]
  },
  {
   "cell_type": "code",
   "execution_count": 33,
   "id": "6c4dbf3e-86b0-4655-9890-b3dc492e9229",
   "metadata": {},
   "outputs": [
    {
     "name": "stdout",
     "output_type": "stream",
     "text": [
      "The accuracy score of the model is 0.9527\n"
     ]
    }
   ],
   "source": [
    "print (f'The accuracy score of the model is {svc.score(X_test_s,Y_testing):.4f}')"
   ]
  },
  {
   "cell_type": "code",
   "execution_count": 34,
   "id": "d5c3fb7e-157d-4c57-bfca-70113b2d1851",
   "metadata": {},
   "outputs": [],
   "source": [
    "#wvaluation\n",
    "y_predict=svc.predict(X_test_s)"
   ]
  },
  {
   "cell_type": "code",
   "execution_count": 35,
   "id": "9c90f297-2610-4c46-aefe-2ea2f448f624",
   "metadata": {},
   "outputs": [],
   "source": [
    "accuracy=accuracy_score(Y_testing,y_predict)"
   ]
  },
  {
   "cell_type": "code",
   "execution_count": 36,
   "id": "2c06b03a-42fd-43d8-b9d5-e8d61e2bed67",
   "metadata": {},
   "outputs": [
    {
     "name": "stdout",
     "output_type": "stream",
     "text": [
      "Accuracy: 0.9526748971193416\n"
     ]
    }
   ],
   "source": [
    "print('Accuracy:',accuracy)"
   ]
  },
  {
   "cell_type": "code",
   "execution_count": 37,
   "id": "a8285f05-b7de-4ef4-90b8-65476bac3b4c",
   "metadata": {},
   "outputs": [],
   "source": [
    "#classification report for precision, recall and f1 score\n",
    "from sklearn.metrics import classification_report"
   ]
  },
  {
   "cell_type": "code",
   "execution_count": 38,
   "id": "1d40c07d-c411-413e-82cb-423ec9d68121",
   "metadata": {},
   "outputs": [
    {
     "name": "stdout",
     "output_type": "stream",
     "text": [
      "              precision    recall  f1-score   support\n",
      "\n",
      "           0       0.99      0.96      0.98       481\n",
      "           1       0.09      0.40      0.15         5\n",
      "\n",
      "    accuracy                           0.95       486\n",
      "   macro avg       0.54      0.68      0.56       486\n",
      "weighted avg       0.98      0.95      0.97       486\n",
      "\n"
     ]
    }
   ],
   "source": [
    "print(classification_report(Y_testing,y_predict))"
   ]
  },
  {
   "cell_type": "code",
   "execution_count": 39,
   "id": "ef55a1f8-7ac1-4590-822c-f1fd0b589c03",
   "metadata": {},
   "outputs": [
    {
     "data": {
      "text/plain": [
       "<sklearn.metrics._plot.confusion_matrix.ConfusionMatrixDisplay at 0x2027bf0df90>"
      ]
     },
     "execution_count": 39,
     "metadata": {},
     "output_type": "execute_result"
    },
    {
     "data": {
      "image/png": "[encoded data removed]",
      "text/plain": [
       "<Figure size 640x480 with 2 Axes>"
      ]
     },
     "metadata": {},
     "output_type": "display_data"
    }
   ],
   "source": [
    "#confusion matrix\n",
    "from sklearn.metrics import ConfusionMatrixDisplay\n",
    "cm=confusion_matrix(Y_testing,y_predict)\n",
    "ConfusionMatrixDisplay(confusion_matrix=cm).plot()"
   ]
  },
  {
   "cell_type": "code",
   "execution_count": 44,
   "id": "68293d85-c65a-4298-ac37-57248c2fe039",
   "metadata": {},
   "outputs": [],
   "source": [
    "#therefore improving model by treating imbalanced data with oversampling technique(smote)\n",
    "from imblearn.over_sampling import SMOTE"
   ]
  },
  {
   "cell_type": "code",
   "execution_count": 41,
   "id": "3d2e8830-91eb-48bf-b54f-ec8baaf75950",
   "metadata": {},
   "outputs": [
    {
     "name": "stdout",
     "output_type": "stream",
     "text": [
      "Before OverSampling, counts of label '1': 556\n",
      "Before OverSampling, counts of label '0': 1795 \n",
      "\n"
     ]
    },
    {
     "name": "stderr",
     "output_type": "stream",
     "text": [
      "  File \"C:\\Users\\FAITH\\AppData\\Local\\Programs\\Python\\Python311\\Lib\\site-packages\\joblib\\externals\\loky\\backend\\context.py\", line 257, in _count_physical_cores\n",
      "    cpu_info = subprocess.run(\n",
      "               ^^^^^^^^^^^^^^^\n",
      "  File \"C:\\Users\\FAITH\\AppData\\Local\\Programs\\Python\\Python311\\Lib\\subprocess.py\", line 548, in run\n",
      "    with Popen(*popenargs, **kwargs) as process:\n",
      "         ^^^^^^^^^^^^^^^^^^^^^^^^^^^\n",
      "  File \"C:\\Users\\FAITH\\AppData\\Local\\Programs\\Python\\Python311\\Lib\\subprocess.py\", line 1024, in __init__\n",
      "    self._execute_child(args, executable, preexec_fn, close_fds,\n",
      "  File \"C:\\Users\\FAITH\\AppData\\Local\\Programs\\Python\\Python311\\Lib\\subprocess.py\", line 1493, in _execute_child\n",
      "    hp, ht, pid, tid = _winapi.CreateProcess(executable, args,\n",
      "                       ^^^^^^^^^^^^^^^^^^^^^^^^^^^^^^^^^^^^^^^\n"
     ]
    },
    {
     "name": "stdout",
     "output_type": "stream",
     "text": [
      "After OverSampling, the shape of train_X: (3590, 24)\n",
      "After OverSampling, the shape of train_y: (3590,) \n",
      "\n",
      "After OverSampling, counts of label '1': 1795\n",
      "After OverSampling, counts of label '0': 1795\n"
     ]
    }
   ],
   "source": [
    "#defining the class independently into disease and non disease category......0-->disease, 1-->non disease and treating unbalanced dataset with oversampling\n",
    "print(\"Before OverSampling, counts of label '1': {}\".format(sum(Y_training == 1))) \n",
    "print(\"Before OverSampling, counts of label '0': {} \\n\".format(sum(Y_training == 0))) \n",
    "\n",
    "# import SMOTE module from imblearn library \n",
    "# pip install imblearn (if you don't have imblearn in your system) \n",
    "from imblearn.over_sampling import SMOTE \n",
    "sm = SMOTE(random_state = 2) \n",
    "X_train_res, y_train_res = sm.fit_resample(X_training, Y_training.ravel()) \n",
    "\n",
    "print('After OverSampling, the shape of train_X: {}'.format(X_train_res.shape)) \n",
    "print('After OverSampling, the shape of train_y: {} \\n'.format(y_train_res.shape)) \n",
    "\n",
    "print(\"After OverSampling, counts of label '1': {}\".format(sum(y_train_res == 1))) \n",
    "print(\"After OverSampling, counts of label '0': {}\".format(sum(y_train_res == 0)))"
   ]
  },
  {
   "cell_type": "code",
   "execution_count": 42,
   "id": "325e15c8-f681-41df-9b70-f1b3d7bd9a55",
   "metadata": {},
   "outputs": [],
   "source": [
    "#SMOTE Algorithm has oversampled the minority instances and made it equal to majority class. \n",
    "#Both categories have equal amount of records. More specifically,the minority class has been increased to the total number of majority class."
   ]
  },
  {
   "cell_type": "code",
   "execution_count": 43,
   "id": "1a8e7b7e-6994-4089-920d-c7b51fc61211",
   "metadata": {},
   "outputs": [
    {
     "name": "stdout",
     "output_type": "stream",
     "text": [
      "              precision    recall  f1-score   support\n",
      "\n",
      "           0       0.99      0.95      0.97       481\n",
      "           1       0.08      0.40      0.13         5\n",
      "\n",
      "    accuracy                           0.94       486\n",
      "   macro avg       0.54      0.68      0.55       486\n",
      "weighted avg       0.98      0.94      0.96       486\n",
      "\n"
     ]
    }
   ],
   "source": [
    "svm_finetune = SVC(random_state=101) \n",
    "svm_finetune.fit(X_train_res, y_train_res.ravel()) \n",
    "predictions = svm_finetune.predict(X_testing) \n",
    "\n",
    "# print classification report \n",
    "print(classification_report(Y_testing, predictions)) "
   ]
  },
  {
   "cell_type": "code",
   "execution_count": 45,
   "id": "503a338e-9ed9-429f-9667-b7f396f4f17e",
   "metadata": {},
   "outputs": [],
   "source": [
    "#therefore improving model by treating imbalanced data using undersampling technique(NearMiss Algorithm)\n",
    "from imblearn.under_sampling import NearMiss"
   ]
  },
  {
   "cell_type": "code",
   "execution_count": 47,
   "id": "f44340fa-3e67-470d-8f60-e78f6abcf8ec",
   "metadata": {},
   "outputs": [
    {
     "name": "stdout",
     "output_type": "stream",
     "text": [
      "Before Undersampling, counts of label '1': 556\n",
      "Before Undersampling, counts of label '0': 1795 \n",
      "\n",
      "After Undersampling, the shape of train_X: (1112, 24)\n",
      "After Undersampling, the shape of train_y: (1112,) \n",
      "\n",
      "After Undersampling, counts of label '1': 556\n",
      "After Undersampling, counts of label '0': 556\n"
     ]
    }
   ],
   "source": [
    "print(\"Before Undersampling, counts of label '1': {}\".format(sum(Y_training == 1))) \n",
    "print(\"Before Undersampling, counts of label '0': {} \\n\".format(sum(Y_training == 0))) \n",
    "\n",
    " \n",
    "nr = NearMiss() \n",
    "\n",
    "X_train_miss, y_train_miss = nr.fit_resample(X_training, Y_training.ravel()) \n",
    "\n",
    "print('After Undersampling, the shape of train_X: {}'.format(X_train_miss.shape)) \n",
    "print('After Undersampling, the shape of train_y: {} \\n'.format(y_train_miss.shape)) \n",
    "\n",
    "print(\"After Undersampling, counts of label '1': {}\".format(sum(y_train_miss == 1))) \n",
    "print(\"After Undersampling, counts of label '0': {}\".format(sum(y_train_miss == 0))) "
   ]
  },
  {
   "cell_type": "code",
   "execution_count": 48,
   "id": "2191b661-896e-46a2-b380-e73f0d44e041",
   "metadata": {},
   "outputs": [],
   "source": [
    "#The NearMiss Algorithm has undersampled the majority instances and made it equal to majority class. \n",
    "#Here, the majority class has been reduced to the total number of minority class, so that both classes will have equal number of records."
   ]
  },
  {
   "cell_type": "code",
   "execution_count": 49,
   "id": "01b5912e-7aca-4e20-8bcb-ce56a798ed7d",
   "metadata": {},
   "outputs": [
    {
     "name": "stdout",
     "output_type": "stream",
     "text": [
      "              precision    recall  f1-score   support\n",
      "\n",
      "           0       1.00      0.61      0.76       481\n",
      "           1       0.03      1.00      0.05         5\n",
      "\n",
      "    accuracy                           0.62       486\n",
      "   macro avg       0.51      0.81      0.41       486\n",
      "weighted avg       0.99      0.62      0.75       486\n",
      "\n"
     ]
    }
   ],
   "source": [
    "svm_finetune2 = SVC(random_state=101) \n",
    "svm_finetune2.fit(X_train_miss, y_train_miss.ravel()) \n",
    "predictions = svm_finetune2.predict(X_testing) \n",
    "\n",
    "# print classification report \n",
    "print(classification_report(Y_testing, predictions)) "
   ]
  },
  {
   "cell_type": "code",
   "execution_count": 50,
   "id": "3201480f-269a-43a5-a532-55bc1e7cdf9c",
   "metadata": {},
   "outputs": [],
   "source": [
    "#Therefore smote performs better cos the recall value o minority class didnt reduce drastically as seen in NearMiss"
   ]
  },
  {
   "cell_type": "code",
   "execution_count": null,
   "id": "8962ea08-56e2-4487-a20b-583996e266c8",
   "metadata": {},
   "outputs": [],
   "source": []
  }
 ],
 "metadata": {
  "kernelspec": {
   "display_name": "Python 3 (ipykernel)",
   "language": "python",
   "name": "python3"
  },
  "language_info": {
   "codemirror_mode": {
    "name": "ipython",
    "version": 3
   },
   "file_extension": ".py",
   "mimetype": "text/x-python",
   "name": "python",
   "nbconvert_exporter": "python",
   "pygments_lexer": "ipython3",
   "version": "3.10.9"
  }
 },
 "nbformat": 4,
 "nbformat_minor": 5
}
